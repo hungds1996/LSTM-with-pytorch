{
 "cells": [
  {
   "cell_type": "code",
   "execution_count": 2,
   "metadata": {},
   "outputs": [],
   "source": [
    "import matplotlib.pyplot as plt\n",
    "import pandas as pd\n",
    "import torch\n",
    "import seaborn as sns\n",
    "\n",
    "import torch.nn as nn\n",
    "import torch.optim as optim\n",
    "\n",
    "from torchtext.legacy.data import Field, TabularDataset, BucketIterator\n",
    "from sklearn.model_selection import train_test_split\n",
    "from torch.nn.utils.rnn import pack_padded_sequence, pad_packed_sequence\n",
    "from sklearn.metrics import accuracy_score, classification_report, confusion_matrix"
   ]
  },
  {
   "cell_type": "code",
   "execution_count": 4,
   "metadata": {},
   "outputs": [],
   "source": [
    "raw_data_path = './data/news.csv'\n",
    "destination_folder = './data'\n",
    "\n",
    "train_test_ratio = 0.1\n",
    "train_valid_ratio = 0.8\n",
    "\n",
    "# trim the samples to reduce model complexity while maintaining enough information for prediction\n",
    "first_n_word = 500 \n",
    "\n",
    "def trim_string(x):\n",
    "    x = x.split(maxsplit=first_n_word)\n",
    "    x = \" \".join(x[:first_n_word])\n",
    "    \n",
    "    return x"
   ]
  },
  {
   "cell_type": "code",
   "execution_count": null,
   "metadata": {},
   "outputs": [],
   "source": [
    "df_raw = pd.read_csv(raw_data_path)\n",
    "\n",
    "# prepare columns\n",
    "df_raw['label'] = (df_raw['label'] == 'FAKE').astype('int')\n",
    "df_raw['titletext'] = df_raw['title'] + \". \" + df_raw['text']\n",
    "df_raw = df_raw.reindex(columns=['label', 'title', 'text', 'titletext'])\n",
    "\n",
    "# drop row with empty text\n",
    "df_raw.drop( df_raw[df_raw.text.str.len() < 5].index, inplace=True )\n",
    "\n",
    "# trim text and titletext to first_n_words\n",
    "df_raw['text'] = df_raw['text'].apply(trim_string)\n",
    "df_raw['titletext'] = df_raw['titletext'].apply(trim_string)\n",
    "\n",
    "# train test split\n",
    "X_raw = df_raw.drop(['label'], axis=1)\n",
    "y_raw = df_raw['label']\n",
    "\n",
    "X_full_train, X_test, y_full_train, y_test = train_test_split(X_raw, y_raw, test_size=train_test_ratio, random_state=20, stratify=y_raw)\n",
    "X_train, X_val, y_train, y_val = train_test_split(X_full_train, y_full_train, train_size=train_valid_ratio, random_state=20, stratify=y_full_train)\n",
    "\n",
    "# Concatenate\n",
    "X_train['label'] = y_train\n",
    "X_val['label'] = y_val\n",
    "X_test['label'] = y_test\n",
    "\n",
    "X_train.to_csv(destination_folder+'/train.csv', index=False)\n",
    "X_val.to_csv(destination_folder+'/valid.csv', index=False)\n",
    "X_test.to_csv(destination_folder+'/test.csv', index=False)"
   ]
  },
  {
   "cell_type": "code",
   "execution_count": 5,
   "metadata": {},
   "outputs": [],
   "source": [
    "label_field = Field(sequential=False, use_vocab=False, batch_first=True, dtype=torch.float)\n",
    "text_field = Field(tokenize='spacy',tokenizer_language='en_core_web_sm', lower=True, include_lengths=True, batch_first=True)\n",
    "fields = [('label', label_field), ('title', text_field), ('text', text_field), ('titletext', text_field)]"
   ]
  },
  {
   "cell_type": "code",
   "execution_count": 6,
   "metadata": {},
   "outputs": [
    {
     "data": {
      "text/plain": [
       "[('label', <torchtext.legacy.data.field.Field at 0x2380f34ed00>),\n",
       " ('title', <torchtext.legacy.data.field.Field at 0x2380f34eca0>),\n",
       " ('text', <torchtext.legacy.data.field.Field at 0x2380f34eca0>),\n",
       " ('titletext', <torchtext.legacy.data.field.Field at 0x2380f34eca0>)]"
      ]
     },
     "execution_count": 6,
     "metadata": {},
     "output_type": "execute_result"
    }
   ],
   "source": [
    "fields"
   ]
  }
 ],
 "metadata": {
  "kernelspec": {
   "display_name": "base",
   "language": "python",
   "name": "python3"
  },
  "language_info": {
   "codemirror_mode": {
    "name": "ipython",
    "version": 3
   },
   "file_extension": ".py",
   "mimetype": "text/x-python",
   "name": "python",
   "nbconvert_exporter": "python",
   "pygments_lexer": "ipython3",
   "version": "3.8.8"
  },
  "orig_nbformat": 4
 },
 "nbformat": 4,
 "nbformat_minor": 2
}
