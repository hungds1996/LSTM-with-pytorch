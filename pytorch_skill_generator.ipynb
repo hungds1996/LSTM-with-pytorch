{
 "cells": [
  {
   "cell_type": "code",
   "execution_count": 1,
   "metadata": {},
   "outputs": [],
   "source": [
    "from __future__ import unicode_literals, print_function, division\n",
    "from io import open\n",
    "\n",
    "import pandas as pd"
   ]
  },
  {
   "cell_type": "code",
   "execution_count": 2,
   "metadata": {},
   "outputs": [],
   "source": [
    "df = pd.read_csv('./data/skill_data.csv')\n",
    "df['result'] = df['result'].fillna('lose')\n",
    "all_categories = list(df['result'].unique())\n",
    "category_lines = {}\n",
    "\n",
    "for cate in all_categories:\n",
    "    category_lines[cate] = []\n",
    "    cate_list = list(df[df['result']==cate]['skills'])\n",
    "    for s in cate_list:\n",
    "        skills = s.split(\",\")\n",
    "        skills = [s.split(\"_\")[-1] for s in skills]\n",
    "        category_lines[cate].append(skills)"
   ]
  },
  {
   "cell_type": "code",
   "execution_count": 3,
   "metadata": {},
   "outputs": [
    {
     "data": {
      "text/plain": [
       "result\n",
       "lose    81160\n",
       "win      7688\n",
       "Name: id, dtype: int64"
      ]
     },
     "execution_count": 3,
     "metadata": {},
     "output_type": "execute_result"
    }
   ],
   "source": [
    "df.groupby(['result'])['id'].count()"
   ]
  },
  {
   "cell_type": "code",
   "execution_count": 4,
   "metadata": {},
   "outputs": [],
   "source": [
    "all_categories = list(df['result'].unique())\n",
    "category_lines = {}\n",
    "n_categories = len(all_categories)\n",
    "\n",
    "all_letters = []\n",
    "\n",
    "for cate in all_categories:\n",
    "    category_lines[cate] = []\n",
    "    cate_list = list(df[df['result']==cate]['skills'])\n",
    "    for s in cate_list:\n",
    "        skills = s.split(\",\")\n",
    "        skills = [s.split(\"_\")[-1] for s in skills if s.split(\"_\")[-1] != \"\"]\n",
    "        \n",
    "        all_letters += skills\n",
    "        if cate == \"win\" and len(skills) <= 30:\n",
    "            continue\n",
    "        if cate == \"lose\" and len(skills) < 10:\n",
    "            continue\n",
    "        category_lines[cate].append(skills)\n",
    "        \n",
    "all_letters = list(set(all_letters))\n",
    "n_letters = len(all_letters)"
   ]
  },
  {
   "cell_type": "code",
   "execution_count": 5,
   "metadata": {},
   "outputs": [
    {
     "name": "stdout",
     "output_type": "stream",
     "text": [
      "lose :  41104\n",
      "win :  7272\n"
     ]
    }
   ],
   "source": [
    "for cate in all_categories:\n",
    "    print(cate, \": \", len(category_lines[cate]))"
   ]
  },
  {
   "cell_type": "markdown",
   "metadata": {},
   "source": [
    "# Define model structure"
   ]
  },
  {
   "cell_type": "code",
   "execution_count": 6,
   "metadata": {},
   "outputs": [
    {
     "name": "stdout",
     "output_type": "stream",
     "text": [
      "cuda\n"
     ]
    },
    {
     "name": "stderr",
     "output_type": "stream",
     "text": [
      "C:\\Users\\hungd\\AppData\\Local\\Temp\\ipykernel_14828\\400433282.py:29: UserWarning: Failed to initialize NumPy: module compiled against API version 0x10 but this version of numpy is 0xf (Triggered internally at ..\\torch\\csrc\\utils\\tensor_numpy.cpp:77.)\n",
      "  device = torch.device(\"cuda\" if torch.cuda.is_available() else \"cpu\")\n"
     ]
    }
   ],
   "source": [
    "import torch\n",
    "import torch.nn as nn\n",
    "\n",
    "class RNN(nn.Module):\n",
    "    def __init__(self, input_size, hidden_size, output_size):\n",
    "        super(RNN, self).__init__()\n",
    "        self.hidden_size = hidden_size\n",
    "\n",
    "        self.i2h = nn.Linear(n_categories + input_size + hidden_size, hidden_size)\n",
    "        self.i2o = nn.Linear(n_categories + input_size + hidden_size, output_size)\n",
    "        self.o2o = nn.Linear(hidden_size + output_size, output_size)\n",
    "        self.dropout = nn.Dropout(0.1)\n",
    "        self.softmax = nn.LogSoftmax(dim=1)\n",
    "\n",
    "    def forward(self, category, input, hidden):\n",
    "        input_combined = torch.cat((category, input, hidden), 1)\n",
    "        hidden = self.i2h(input_combined)\n",
    "        output = self.i2o(input_combined)\n",
    "        output_combined = torch.cat((hidden, output), 1)\n",
    "        output = self.o2o(output_combined)\n",
    "        output = self.dropout(output)\n",
    "        output = self.softmax(output)\n",
    "        return output, hidden\n",
    "\n",
    "    def initHidden(self):\n",
    "        return torch.zeros(1, self.hidden_size)\n",
    "    \n",
    "\n",
    "device = torch.device(\"cuda\" if torch.cuda.is_available() else \"cpu\")\n",
    "print(device)"
   ]
  },
  {
   "cell_type": "markdown",
   "metadata": {},
   "source": [
    "# Training"
   ]
  },
  {
   "cell_type": "code",
   "execution_count": 7,
   "metadata": {},
   "outputs": [],
   "source": [
    "import random\n",
    "\n",
    "# Random item from a list\n",
    "def randomChoice(l):\n",
    "    return l[random.randint(0, len(l) - 1)]\n",
    "\n",
    "# Get a random category and random line from that category\n",
    "def randomTrainingPair():\n",
    "    category = randomChoice(all_categories)\n",
    "    line = randomChoice(category_lines[category])\n",
    "    return category, line"
   ]
  },
  {
   "cell_type": "code",
   "execution_count": 8,
   "metadata": {},
   "outputs": [],
   "source": [
    "def resultTensor(category):\n",
    "    li = all_categories.index(category)\n",
    "    tensor = torch.zeros(1, n_categories)\n",
    "    tensor[0][li] = 1\n",
    "    return tensor\n",
    "\n",
    "def inputSkillTensor(line):\n",
    "    tensor = torch.zeros(len(line)-1, 1, n_letters)\n",
    "    for li in range(len(line)-1):\n",
    "        letter = line[li]\n",
    "        tensor[li][0][all_letters.index(letter)] = 1\n",
    "    return tensor\n",
    "\n",
    "def targetSkillTensor(line):\n",
    "    letter_indexes = [all_letters.index(line[li]) for li in range(1, len(line))]\n",
    "    return torch.LongTensor(letter_indexes)"
   ]
  },
  {
   "cell_type": "code",
   "execution_count": 9,
   "metadata": {},
   "outputs": [],
   "source": [
    "def randomTrainingExample():\n",
    "    category, line = randomTrainingPair()\n",
    "    category_tensor = resultTensor(category)\n",
    "    input_line_tensor = inputSkillTensor(line)\n",
    "    target_line_tensor = targetSkillTensor(line)\n",
    "    return category_tensor, input_line_tensor, target_line_tensor"
   ]
  },
  {
   "cell_type": "code",
   "execution_count": 10,
   "metadata": {},
   "outputs": [
    {
     "data": {
      "text/plain": [
       "(tensor([[0., 1.]]),\n",
       " tensor([[[0., 0., 0.,  ..., 0., 0., 0.]],\n",
       " \n",
       "         [[0., 0., 0.,  ..., 0., 0., 0.]],\n",
       " \n",
       "         [[0., 0., 0.,  ..., 0., 0., 0.]],\n",
       " \n",
       "         ...,\n",
       " \n",
       "         [[0., 0., 0.,  ..., 0., 0., 0.]],\n",
       " \n",
       "         [[0., 0., 0.,  ..., 0., 0., 0.]],\n",
       " \n",
       "         [[0., 0., 1.,  ..., 0., 0., 0.]]]),\n",
       " tensor([14, 14,  9, 16,  8,  8,  9,  9, 16,  8, 14,  9,  8, 16,  9, 14,  8, 16,\n",
       "         15, 21, 21,  6, 21, 18,  4,  2, 15, 24, 21,  6, 20, 21, 24, 24, 20, 15,\n",
       "          6, 24,  4,  4,  4, 24,  2,  6,  4, 18, 20,  6,  2,  2]))"
      ]
     },
     "execution_count": 10,
     "metadata": {},
     "output_type": "execute_result"
    }
   ],
   "source": [
    "# cate, line = randomTrainingPair()\n",
    "# print(resultTensor(cate))\n",
    "# print(inputSkillTensor(line))\n",
    "# print(targetSkillTensor(line))\n",
    "randomTrainingExample()"
   ]
  },
  {
   "cell_type": "markdown",
   "metadata": {},
   "source": [
    "## Train network"
   ]
  },
  {
   "cell_type": "code",
   "execution_count": 11,
   "metadata": {},
   "outputs": [],
   "source": [
    "criterion = nn.NLLLoss()\n",
    "\n",
    "learning_rate = 0.0005\n",
    "\n",
    "def train(category_tensor, input_line_tensor, target_line_tensor):\n",
    "    target_line_tensor.unsqueeze_(-1)\n",
    "    hidden = rnn.initHidden()\n",
    "\n",
    "    rnn.zero_grad()\n",
    "\n",
    "    loss = torch.Tensor([0]) # you can also just simply use ``loss = 0``\n",
    "\n",
    "    for i in range(input_line_tensor.size(0)):\n",
    "        output, hidden = rnn(category_tensor, input_line_tensor[i], hidden)\n",
    "        l = criterion(output, target_line_tensor[i])\n",
    "        loss += l\n",
    "\n",
    "    loss.backward()\n",
    "\n",
    "    for p in rnn.parameters():\n",
    "        p.data.add_(p.grad.data, alpha=-learning_rate)\n",
    "\n",
    "    return output, loss.item() / input_line_tensor.size(0)"
   ]
  },
  {
   "cell_type": "code",
   "execution_count": 12,
   "metadata": {},
   "outputs": [],
   "source": [
    "import time\n",
    "import math\n",
    "\n",
    "def timeSince(since):\n",
    "    now = time.time()\n",
    "    s = now - since\n",
    "    m = math.floor(s / 60)\n",
    "    s -= m * 60\n",
    "    return '%dm %ds' % (m, s)"
   ]
  },
  {
   "cell_type": "code",
   "execution_count": 13,
   "metadata": {},
   "outputs": [
    {
     "name": "stdout",
     "output_type": "stream",
     "text": [
      "1m 21s (5000 5%) 3.0187\n",
      "2m 39s (10000 10%) 2.2199\n",
      "3m 58s (15000 15%) 3.2326\n",
      "5m 20s (20000 20%) 3.0133\n",
      "6m 38s (25000 25%) 2.9723\n",
      "7m 54s (30000 30%) 2.7106\n",
      "9m 12s (35000 35%) 2.7704\n",
      "10m 26s (40000 40%) 2.9836\n",
      "11m 38s (45000 45%) 3.0658\n",
      "12m 51s (50000 50%) 3.1009\n",
      "14m 8s (55000 55%) 3.3129\n",
      "15m 21s (60000 60%) 2.8988\n",
      "16m 35s (65000 65%) 2.8936\n",
      "17m 48s (70000 70%) 3.0814\n",
      "19m 1s (75000 75%) nan\n",
      "20m 15s (80000 80%) nan\n",
      "21m 31s (85000 85%) nan\n",
      "22m 47s (90000 90%) nan\n",
      "24m 10s (95000 95%) nan\n",
      "25m 30s (100000 100%) nan\n"
     ]
    }
   ],
   "source": [
    "rnn = RNN(n_letters, 128, n_letters)\n",
    "\n",
    "n_iters = 100000\n",
    "print_every = 5000\n",
    "plot_every = 500\n",
    "all_losses = []\n",
    "total_loss = 0 # Reset every ``plot_every`` ``iters``\n",
    "\n",
    "start = time.time()\n",
    "\n",
    "for iter in range(1, n_iters + 1):\n",
    "    output, loss = train(*randomTrainingExample())\n",
    "    total_loss += loss\n",
    "\n",
    "    if iter % print_every == 0:\n",
    "        print('%s (%d %d%%) %.4f' % (timeSince(start), iter, iter / n_iters * 100, loss))\n",
    "\n",
    "    if iter % plot_every == 0:\n",
    "        all_losses.append(total_loss / plot_every)\n",
    "        total_loss = 0"
   ]
  },
  {
   "cell_type": "code",
   "execution_count": 14,
   "metadata": {},
   "outputs": [
    {
     "data": {
      "text/plain": [
       "[<matplotlib.lines.Line2D at 0x13b46364880>]"
      ]
     },
     "execution_count": 14,
     "metadata": {},
     "output_type": "execute_result"
    },
    {
     "data": {
      "image/png": "[encoded data removed]",
      "text/plain": [
       "<Figure size 432x288 with 1 Axes>"
      ]
     },
     "metadata": {
      "needs_background": "light"
     },
     "output_type": "display_data"
    }
   ],
   "source": [
    "import matplotlib.pyplot as plt\n",
    "\n",
    "plt.figure()\n",
    "plt.plot(all_losses)"
   ]
  },
  {
   "cell_type": "code",
   "execution_count": 22,
   "metadata": {},
   "outputs": [],
   "source": [
    "max_length = 20\n",
    "\n",
    "# Sample from a category and starting letter\n",
    "def sample(category, start_letter='A'):\n",
    "    with torch.no_grad():  # no need to track history in sampling\n",
    "        category_tensor = resultTensor(category)\n",
    "        input = inputSkillTensor(start_letter)\n",
    "        hidden = rnn.initHidden()\n",
    "\n",
    "        output_name = start_letter\n",
    "        output, hidden = rnn(category_tensor, input[0], hidden)\n",
    "        \n",
    "        topv, topi = output.topk(3)\n",
    "        return topv, topi\n",
    "\n",
    "# Get multiple samples from one category and multiple starting letters\n",
    "def samples(category, start_letters='ABC'):\n",
    "    for start_letter in start_letters:\n",
    "        print(sample(category, start_letter))"
   ]
  },
  {
   "cell_type": "code",
   "execution_count": 27,
   "metadata": {},
   "outputs": [],
   "source": [
    "topv, topi = sample('win', ['Drill', 'Soundwave Field'])"
   ]
  },
  {
   "cell_type": "code",
   "execution_count": 29,
   "metadata": {},
   "outputs": [
    {
     "data": {
      "text/plain": [
       "tensor([[0, 1, 2]])"
      ]
     },
     "execution_count": 29,
     "metadata": {},
     "output_type": "execute_result"
    }
   ],
   "source": [
    "topi"
   ]
  },
  {
   "cell_type": "code",
   "execution_count": 26,
   "metadata": {},
   "outputs": [
    {
     "data": {
      "text/plain": [
       "['Laser Beam',\n",
       " 'Hammer',\n",
       " 'Drill',\n",
       " 'HE Fuel',\n",
       " 'Rocket',\n",
       " 'Horseshoe',\n",
       " 'Black Hawk',\n",
       " 'Whip',\n",
       " 'Life Insurance',\n",
       " 'Soundwave Field',\n",
       " 'Guard Badge',\n",
       " 'Captain Shield',\n",
       " 'Wanted Poster',\n",
       " 'Energy Drink',\n",
       " 'Acid Bottle',\n",
       " 'Captain Boot',\n",
       " 'Revolver',\n",
       " 'Ammo Thruster',\n",
       " 'Pocket Watch',\n",
       " 'Gold Molecule',\n",
       " 'Hi-Power Magnet',\n",
       " 'Power Gauntlet',\n",
       " 'Lightsaber',\n",
       " 'Shotgun',\n",
       " 'Ronin Oyoroi',\n",
       " 'White Eagle',\n",
       " 'Energy Core']"
      ]
     },
     "execution_count": 26,
     "metadata": {},
     "output_type": "execute_result"
    }
   ],
   "source": [
    "all_letters"
   ]
  }
 ],
 "metadata": {
  "kernelspec": {
   "display_name": "Python 3",
   "language": "python",
   "name": "python3"
  },
  "language_info": {
   "codemirror_mode": {
    "name": "ipython",
    "version": 3
   },
   "file_extension": ".py",
   "mimetype": "text/x-python",
   "name": "python",
   "nbconvert_exporter": "python",
   "pygments_lexer": "ipython3",
   "version": "3.10.0"
  },
  "orig_nbformat": 4
 },
 "nbformat": 4,
 "nbformat_minor": 2
}
